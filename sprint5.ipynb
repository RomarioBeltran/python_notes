{
 "cells": [
  {
   "cell_type": "code",
   "execution_count": 1,
   "metadata": {},
   "outputs": [
    {
     "name": "stdout",
     "output_type": "stream",
     "text": [
      "excellent - 1\n",
      "good - 2\n",
      "average - 14\n",
      "passable - 10\n",
      "failed - 3\n"
     ]
    }
   ],
   "source": [
    "import numpy as np\n",
    "\n",
    "exam_results = np.array(\n",
    "    [\n",
    "        42,  56,  59,  76,  43,  34,  62,  51,  50,  65,  \n",
    "        66,  50,  46,  5,  79, 99,  51,  26,  35,   8,  \n",
    "        34,  47,  64,  58,  61,  12,  30,  63,  20,  68\n",
    "    ]\n",
    ")\n",
    "\n",
    "summarized_data = {'excellent':0, # añade el valor inicial aquí,\n",
    "                   'good': 0,\n",
    "                   'average':0, # añade el valor inicial aquí,\n",
    "                   'passable': 0, # añade el valor inicial aquí,\n",
    "                   'failed': 0,} # añade el valor inicial aquí}\n",
    "\n",
    "## valor inicial# escribe aquí el código para contar el número de estudiantes para cada tipo de resultados obtenidos.\n",
    "for score in exam_results:\n",
    "    if score >= 90:\n",
    "        summarized_data['excellent'] += 1\n",
    "    elif score >= 70:\n",
    "        summarized_data['good'] += 1\n",
    "    elif score >= 50:\n",
    "        summarized_data['average'] += 1\n",
    "    elif score >= 20:\n",
    "        summarized_data['passable'] += 1\n",
    "    else:  # Para cualquier puntaje menor a 20\n",
    "        summarized_data['failed'] += 1\n",
    "\n",
    "\n",
    "\n",
    "# código para mostrar los resultados en pantalla. No lo cambies.\n",
    "for result in summarized_data:\n",
    "    print(result, '-', summarized_data[result])"
   ]
  }
 ],
 "metadata": {
  "kernelspec": {
   "display_name": "base",
   "language": "python",
   "name": "python3"
  },
  "language_info": {
   "codemirror_mode": {
    "name": "ipython",
    "version": 3
   },
   "file_extension": ".py",
   "mimetype": "text/x-python",
   "name": "python",
   "nbconvert_exporter": "python",
   "pygments_lexer": "ipython3",
   "version": "3.12.7"
  }
 },
 "nbformat": 4,
 "nbformat_minor": 2
}
